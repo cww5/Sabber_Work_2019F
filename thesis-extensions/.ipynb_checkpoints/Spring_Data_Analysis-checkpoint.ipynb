{
 "cells": [
  {
   "cell_type": "markdown",
   "metadata": {},
   "source": [
    "# HS Spring 2020 Data Analysis"
   ]
  },
  {
   "cell_type": "code",
   "execution_count": 2,
   "metadata": {},
   "outputs": [],
   "source": [
    "import numpy as np\n",
    "import pandas as pd\n",
    "pd.set_option('display.max_columns', None)\n",
    "import matplotlib\n",
    "import matplotlib.pyplot as plt\n",
    "\n",
    "import re\n",
    "import argparse\n",
    "import logging\n",
    "\n",
    "import os\n",
    "# import glob\n",
    "import sys\n",
    "from pathlib import Path\n",
    "\n",
    "\n",
    "from sklearn.model_selection import train_test_split\n",
    "from sklearn.cluster import KMeans\n",
    "from sklearn import metrics\n",
    "from scipy.spatial.distance import cdist\n",
    "\n",
    "import gamework"
   ]
  },
  {
   "cell_type": "code",
   "execution_count": 3,
   "metadata": {},
   "outputs": [],
   "source": [
    "#help(gamework.MatchData)\n",
    "\n",
    "root_dir = 'C:\\\\Users\\\\Main\\\\Documents\\\\GitHub\\\\Sabber_Work_2019F\\\\thesis-output\\\\ZLvsCL_1k0_Compiled'\n",
    "\n",
    "#so_pizza = os.path.join(root_dir, '')"
   ]
  },
  {
   "cell_type": "code",
   "execution_count": 4,
   "metadata": {},
   "outputs": [],
   "source": [
    "md = gamework.MatchupData('aggro', 'aggro', root_dir)"
   ]
  },
  {
   "cell_type": "code",
   "execution_count": 5,
   "metadata": {},
   "outputs": [
    {
     "name": "stdout",
     "output_type": "stream",
     "text": [
      "Roffle-Roffle.csv\n",
      "Roffle-Viper.csv\n",
      "Roffle-Pizza.csv\n",
      "Roffle-Solegit.csv\n",
      "Roffle-Wabeka.csv\n",
      "Viper-Roffle.csv\n",
      "Viper-Viper.csv\n",
      "Viper-Pizza.csv\n",
      "Viper-Solegit.csv\n",
      "Viper-Wabeka.csv\n",
      "Pizza-Roffle.csv\n",
      "Pizza-Viper.csv\n",
      "Pizza-Pizza.csv\n",
      "Pizza-Solegit.csv\n",
      "Pizza-Wabeka.csv\n",
      "Solegit-Roffle.csv\n",
      "Solegit-Viper.csv\n",
      "Solegit-Pizza.csv\n",
      "Solegit-Solegit.csv\n",
      "Solegit-Wabeka.csv\n",
      "Wabeka-Roffle.csv\n",
      "Wabeka-Viper.csv\n",
      "Wabeka-Pizza.csv\n",
      "Wabeka-Solegit.csv\n",
      "Wabeka-Wabeka.csv\n",
      "Total 25 matchups\n"
     ]
    }
   ],
   "source": [
    "md.get_matchups()"
   ]
  },
  {
   "cell_type": "code",
   "execution_count": 6,
   "metadata": {},
   "outputs": [
    {
     "data": {
      "text/plain": [
       "['C:\\\\Users\\\\Main\\\\Documents\\\\GitHub\\\\Sabber_Work_2019F\\\\thesis-output\\\\ZLvsCL_1k0_Compiled\\\\Roffle-Roffle.csv',\n",
       " 'C:\\\\Users\\\\Main\\\\Documents\\\\GitHub\\\\Sabber_Work_2019F\\\\thesis-output\\\\ZLvsCL_1k0_Compiled\\\\Roffle-Viper.csv',\n",
       " 'C:\\\\Users\\\\Main\\\\Documents\\\\GitHub\\\\Sabber_Work_2019F\\\\thesis-output\\\\ZLvsCL_1k0_Compiled\\\\Roffle-Pizza.csv',\n",
       " 'C:\\\\Users\\\\Main\\\\Documents\\\\GitHub\\\\Sabber_Work_2019F\\\\thesis-output\\\\ZLvsCL_1k0_Compiled\\\\Roffle-Solegit.csv',\n",
       " 'C:\\\\Users\\\\Main\\\\Documents\\\\GitHub\\\\Sabber_Work_2019F\\\\thesis-output\\\\ZLvsCL_1k0_Compiled\\\\Roffle-Wabeka.csv',\n",
       " 'C:\\\\Users\\\\Main\\\\Documents\\\\GitHub\\\\Sabber_Work_2019F\\\\thesis-output\\\\ZLvsCL_1k0_Compiled\\\\Viper-Roffle.csv',\n",
       " 'C:\\\\Users\\\\Main\\\\Documents\\\\GitHub\\\\Sabber_Work_2019F\\\\thesis-output\\\\ZLvsCL_1k0_Compiled\\\\Viper-Viper.csv',\n",
       " 'C:\\\\Users\\\\Main\\\\Documents\\\\GitHub\\\\Sabber_Work_2019F\\\\thesis-output\\\\ZLvsCL_1k0_Compiled\\\\Viper-Pizza.csv',\n",
       " 'C:\\\\Users\\\\Main\\\\Documents\\\\GitHub\\\\Sabber_Work_2019F\\\\thesis-output\\\\ZLvsCL_1k0_Compiled\\\\Viper-Solegit.csv',\n",
       " 'C:\\\\Users\\\\Main\\\\Documents\\\\GitHub\\\\Sabber_Work_2019F\\\\thesis-output\\\\ZLvsCL_1k0_Compiled\\\\Viper-Wabeka.csv',\n",
       " 'C:\\\\Users\\\\Main\\\\Documents\\\\GitHub\\\\Sabber_Work_2019F\\\\thesis-output\\\\ZLvsCL_1k0_Compiled\\\\Pizza-Roffle.csv',\n",
       " 'C:\\\\Users\\\\Main\\\\Documents\\\\GitHub\\\\Sabber_Work_2019F\\\\thesis-output\\\\ZLvsCL_1k0_Compiled\\\\Pizza-Viper.csv',\n",
       " 'C:\\\\Users\\\\Main\\\\Documents\\\\GitHub\\\\Sabber_Work_2019F\\\\thesis-output\\\\ZLvsCL_1k0_Compiled\\\\Pizza-Pizza.csv',\n",
       " 'C:\\\\Users\\\\Main\\\\Documents\\\\GitHub\\\\Sabber_Work_2019F\\\\thesis-output\\\\ZLvsCL_1k0_Compiled\\\\Pizza-Solegit.csv',\n",
       " 'C:\\\\Users\\\\Main\\\\Documents\\\\GitHub\\\\Sabber_Work_2019F\\\\thesis-output\\\\ZLvsCL_1k0_Compiled\\\\Pizza-Wabeka.csv',\n",
       " 'C:\\\\Users\\\\Main\\\\Documents\\\\GitHub\\\\Sabber_Work_2019F\\\\thesis-output\\\\ZLvsCL_1k0_Compiled\\\\Solegit-Roffle.csv',\n",
       " 'C:\\\\Users\\\\Main\\\\Documents\\\\GitHub\\\\Sabber_Work_2019F\\\\thesis-output\\\\ZLvsCL_1k0_Compiled\\\\Solegit-Viper.csv',\n",
       " 'C:\\\\Users\\\\Main\\\\Documents\\\\GitHub\\\\Sabber_Work_2019F\\\\thesis-output\\\\ZLvsCL_1k0_Compiled\\\\Solegit-Pizza.csv',\n",
       " 'C:\\\\Users\\\\Main\\\\Documents\\\\GitHub\\\\Sabber_Work_2019F\\\\thesis-output\\\\ZLvsCL_1k0_Compiled\\\\Solegit-Solegit.csv',\n",
       " 'C:\\\\Users\\\\Main\\\\Documents\\\\GitHub\\\\Sabber_Work_2019F\\\\thesis-output\\\\ZLvsCL_1k0_Compiled\\\\Solegit-Wabeka.csv',\n",
       " 'C:\\\\Users\\\\Main\\\\Documents\\\\GitHub\\\\Sabber_Work_2019F\\\\thesis-output\\\\ZLvsCL_1k0_Compiled\\\\Wabeka-Roffle.csv',\n",
       " 'C:\\\\Users\\\\Main\\\\Documents\\\\GitHub\\\\Sabber_Work_2019F\\\\thesis-output\\\\ZLvsCL_1k0_Compiled\\\\Wabeka-Viper.csv',\n",
       " 'C:\\\\Users\\\\Main\\\\Documents\\\\GitHub\\\\Sabber_Work_2019F\\\\thesis-output\\\\ZLvsCL_1k0_Compiled\\\\Wabeka-Pizza.csv',\n",
       " 'C:\\\\Users\\\\Main\\\\Documents\\\\GitHub\\\\Sabber_Work_2019F\\\\thesis-output\\\\ZLvsCL_1k0_Compiled\\\\Wabeka-Solegit.csv',\n",
       " 'C:\\\\Users\\\\Main\\\\Documents\\\\GitHub\\\\Sabber_Work_2019F\\\\thesis-output\\\\ZLvsCL_1k0_Compiled\\\\Wabeka-Wabeka.csv']"
      ]
     },
     "execution_count": 6,
     "metadata": {},
     "output_type": "execute_result"
    }
   ],
   "source": [
    "all_folders = md.get_folders()\n",
    "all_folders"
   ]
  },
  {
   "cell_type": "code",
   "execution_count": 9,
   "metadata": {},
   "outputs": [
    {
     "name": "stdout",
     "output_type": "stream",
     "text": [
      "(4134, 23)\n"
     ]
    }
   ],
   "source": [
    "match1 = gamework.MatchData(all_folders[0])\n",
    "match1_summary = match1.get_summary()"
   ]
  },
  {
   "cell_type": "code",
   "execution_count": 12,
   "metadata": {},
   "outputs": [
    {
     "data": {
      "text/plain": [
       "TURN_NO                                     0.000000\n",
       "P1_HEALTH                                   0.000000\n",
       "P2_HEALTH                                   1.773233\n",
       "AMOUNTHEALEDTHISTURN                        0.000000\n",
       "NUMATTACKSTHISTURN                          0.000000\n",
       "NUMCARDSDRAWNTHISTURN                       0.000000\n",
       "NUMCARDSPLAYEDTHISTURN                      0.264945\n",
       "NUMCARDSTODRAW                              0.000000\n",
       "NUMELEMENTALSPLAYEDLASTTURN                 0.000000\n",
       "NUMELEMENTALSPLAYEDTHISTURN                 0.000000\n",
       "NUMFRIENDLYMINIONSTHATATTACKEDTHISTURN      0.000000\n",
       "NUMFRIENDLYMINIONSTHATDIEDTHISTURN          0.000000\n",
       "NUMMINIONSPLAYEDTHISTURN                    0.475456\n",
       "NUMMINIONSPLAYERKILLEDTHISTURN              0.000000\n",
       "NUMOPTIONSPLAYEDTHISTURN                    0.264945\n",
       "NUMSECRETSPLAYEDTHISGAME                    0.000000\n",
       "NUMSPELLSPLAYEDTHISGAME                     0.443308\n",
       "NUMTIMESHEROPOWERUSEDTHISGAME               0.000000\n",
       "REMAININGMANA                               0.264945\n",
       "TOTALMANASPENTTHISGAME                      0.264945\n",
       "USEDMANATHISTURN                            0.264945\n",
       "GAME_COUNTER                              114.459600\n",
       "dtype: float64"
      ]
     },
     "execution_count": 12,
     "metadata": {},
     "output_type": "execute_result"
    }
   ],
   "source": [
    "match1_summary['EoT-Standard-Dev'][1]"
   ]
  },
  {
   "cell_type": "code",
   "execution_count": null,
   "metadata": {},
   "outputs": [],
   "source": []
  }
 ],
 "metadata": {
  "kernelspec": {
   "display_name": "Python 3",
   "language": "python",
   "name": "python3"
  },
  "language_info": {
   "codemirror_mode": {
    "name": "ipython",
    "version": 3
   },
   "file_extension": ".py",
   "mimetype": "text/x-python",
   "name": "python",
   "nbconvert_exporter": "python",
   "pygments_lexer": "ipython3",
   "version": "3.7.4"
  }
 },
 "nbformat": 4,
 "nbformat_minor": 2
}
